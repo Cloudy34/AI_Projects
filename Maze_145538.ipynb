{
  "nbformat": 4,
  "nbformat_minor": 0,
  "metadata": {
    "colab": {
      "provenance": [],
      "authorship_tag": "ABX9TyNceHkJ16bqZhWUpetg6Cwf",
      "include_colab_link": true
    },
    "kernelspec": {
      "name": "python3",
      "display_name": "Python 3"
    },
    "language_info": {
      "name": "python"
    }
  },
  "cells": [
    {
      "cell_type": "markdown",
      "metadata": {
        "id": "view-in-github",
        "colab_type": "text"
      },
      "source": [
        "<a href=\"https://colab.research.google.com/github/Cloudy34/AI_Projects/blob/main/Maze_145538.ipynb\" target=\"_parent\"><img src=\"https://colab.research.google.com/assets/colab-badge.svg\" alt=\"Open In Colab\"/></a>"
      ]
    },
    {
      "cell_type": "code",
      "execution_count": null,
      "metadata": {
        "id": "pwwlR-GQ0gFY"
      },
      "outputs": [],
      "source": [
        "from collections import deque\n",
        "import heapq"
      ]
    },
    {
      "cell_type": "code",
      "source": [
        "grid = [\n",
        "   [\"S\", 0, 0, 0, 0],\n",
        "   [1, 1, 0, 1, 1],\n",
        "   [0, 0, 0, 0, 0],\n",
        "   [0, 1, 0, 1, 0],\n",
        "   [0, 0, 0, 0, \"G\"]\n",
        "\n",
        "\n",
        "]\n",
        "\n",
        "start = (0, 0)\n",
        "goal = (4, 4)"
      ],
      "metadata": {
        "id": "TF7GLsYe0ta1"
      },
      "execution_count": null,
      "outputs": []
    },
    {
      "cell_type": "code",
      "source": [
        "def greedy_search(grid, start, goal):\n",
        "    def heuristic(node):\n",
        "        return abs(node[0]- goal[0]) + abs(node[1]- goal[1])#manhattan distance,\n",
        "\n",
        "    open_list = [(start, [])]\n",
        "    closed_set = set()\n",
        "\n",
        "    while open_list:\n",
        "        open_list.sort(key = lambda x: heuristic(x[0]))\n",
        "        current, path = open_list.pop(0)\n",
        "\n",
        "        if current == goal:\n",
        "            return path\n",
        "\n",
        "        closed_set.add(current)\n",
        "\n",
        "        x,y = current\n",
        "        for dx, dy in [(1,0),(-1,0),(0,1),(0,-1)]:\n",
        "            new_x, new_y = x + dx, y + dy\n",
        "            neighbor = (new_x, new_y)\n",
        "\n",
        "            if neighbor not in closed_set and 0 <= new_x < len(grid) and 0 <= new_y < len(grid) and grid[new_x][new_y] != 1 :\n",
        "                new_path = path + [( new_x, new_y)]\n",
        "                open_list.append([neighbor, new_path])\n",
        "\n",
        "    return \"No path found\""
      ],
      "metadata": {
        "id": "8ET03c7b1xGs"
      },
      "execution_count": null,
      "outputs": []
    },
    {
      "cell_type": "code",
      "source": [
        "result = greedy_search(grid, start , goal)\n",
        "\n",
        "if result == \"No path found\":\n",
        "    print(result)\n",
        "else:\n",
        "    print(\"path found:\", result)"
      ],
      "metadata": {
        "colab": {
          "base_uri": "https://localhost:8080/"
        },
        "id": "Cb0jQ7O7-w99",
        "outputId": "30feb245-30a5-4fb4-f3d9-120b13446d12"
      },
      "execution_count": null,
      "outputs": [
        {
          "output_type": "stream",
          "name": "stdout",
          "text": [
            "path found: [(0, 1), (0, 2), (1, 2), (2, 2), (3, 2), (4, 2), (4, 3), (4, 4)]\n"
          ]
        }
      ]
    }
  ]
}