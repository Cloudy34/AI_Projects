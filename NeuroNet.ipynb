{
  "nbformat": 4,
  "nbformat_minor": 0,
  "metadata": {
    "colab": {
      "provenance": [],
      "authorship_tag": "ABX9TyNK7dW4Eif9GhGCOAwLvruI",
      "include_colab_link": true
    },
    "kernelspec": {
      "name": "python3",
      "display_name": "Python 3"
    },
    "language_info": {
      "name": "python"
    }
  },
  "cells": [
    {
      "cell_type": "markdown",
      "metadata": {
        "id": "view-in-github",
        "colab_type": "text"
      },
      "source": [
        "<a href=\"https://colab.research.google.com/github/Cloudy34/AI_Projects/blob/main/NeuroNet.ipynb\" target=\"_parent\"><img src=\"https://colab.research.google.com/assets/colab-badge.svg\" alt=\"Open In Colab\"/></a>"
      ]
    },
    {
      "cell_type": "code",
      "execution_count": 25,
      "metadata": {
        "id": "b58Y-JuvCSJn"
      },
      "outputs": [],
      "source": [
        "!pip install ucimlrepo -q"
      ]
    },
    {
      "cell_type": "code",
      "source": [
        "from ucimlrepo import fetch_ucirepo"
      ],
      "metadata": {
        "id": "c2oaApO3D4I_"
      },
      "execution_count": 26,
      "outputs": []
    },
    {
      "cell_type": "code",
      "source": [
        "data = fetch_ucirepo(id = 19)\n",
        "\n",
        "X = data.data.features\n",
        "y = data.data.targets"
      ],
      "metadata": {
        "id": "xUqx32qND7ha"
      },
      "execution_count": 27,
      "outputs": []
    },
    {
      "cell_type": "code",
      "source": [
        "import pandas as pd\n",
        "\n",
        "df = pd.DataFrame(X)\n",
        "df['y'] = y\n",
        "\n",
        "df.head()"
      ],
      "metadata": {
        "colab": {
          "base_uri": "https://localhost:8080/",
          "height": 206
        },
        "id": "zM8n68C8EAxp",
        "outputId": "a6392cfc-1db0-47e1-adc8-25adb61359c0"
      },
      "execution_count": 28,
      "outputs": [
        {
          "output_type": "execute_result",
          "data": {
            "text/plain": [
              "  buying  maint doors persons lug_boot safety      y\n",
              "0  vhigh  vhigh     2       2    small    low  unacc\n",
              "1  vhigh  vhigh     2       2    small    med  unacc\n",
              "2  vhigh  vhigh     2       2    small   high  unacc\n",
              "3  vhigh  vhigh     2       2      med    low  unacc\n",
              "4  vhigh  vhigh     2       2      med    med  unacc"
            ],
            "text/html": [
              "\n",
              "  <div id=\"df-b6a8b05e-4eb2-4029-8c4e-bf5b83fc8fc1\" class=\"colab-df-container\">\n",
              "    <div>\n",
              "<style scoped>\n",
              "    .dataframe tbody tr th:only-of-type {\n",
              "        vertical-align: middle;\n",
              "    }\n",
              "\n",
              "    .dataframe tbody tr th {\n",
              "        vertical-align: top;\n",
              "    }\n",
              "\n",
              "    .dataframe thead th {\n",
              "        text-align: right;\n",
              "    }\n",
              "</style>\n",
              "<table border=\"1\" class=\"dataframe\">\n",
              "  <thead>\n",
              "    <tr style=\"text-align: right;\">\n",
              "      <th></th>\n",
              "      <th>buying</th>\n",
              "      <th>maint</th>\n",
              "      <th>doors</th>\n",
              "      <th>persons</th>\n",
              "      <th>lug_boot</th>\n",
              "      <th>safety</th>\n",
              "      <th>y</th>\n",
              "    </tr>\n",
              "  </thead>\n",
              "  <tbody>\n",
              "    <tr>\n",
              "      <th>0</th>\n",
              "      <td>vhigh</td>\n",
              "      <td>vhigh</td>\n",
              "      <td>2</td>\n",
              "      <td>2</td>\n",
              "      <td>small</td>\n",
              "      <td>low</td>\n",
              "      <td>unacc</td>\n",
              "    </tr>\n",
              "    <tr>\n",
              "      <th>1</th>\n",
              "      <td>vhigh</td>\n",
              "      <td>vhigh</td>\n",
              "      <td>2</td>\n",
              "      <td>2</td>\n",
              "      <td>small</td>\n",
              "      <td>med</td>\n",
              "      <td>unacc</td>\n",
              "    </tr>\n",
              "    <tr>\n",
              "      <th>2</th>\n",
              "      <td>vhigh</td>\n",
              "      <td>vhigh</td>\n",
              "      <td>2</td>\n",
              "      <td>2</td>\n",
              "      <td>small</td>\n",
              "      <td>high</td>\n",
              "      <td>unacc</td>\n",
              "    </tr>\n",
              "    <tr>\n",
              "      <th>3</th>\n",
              "      <td>vhigh</td>\n",
              "      <td>vhigh</td>\n",
              "      <td>2</td>\n",
              "      <td>2</td>\n",
              "      <td>med</td>\n",
              "      <td>low</td>\n",
              "      <td>unacc</td>\n",
              "    </tr>\n",
              "    <tr>\n",
              "      <th>4</th>\n",
              "      <td>vhigh</td>\n",
              "      <td>vhigh</td>\n",
              "      <td>2</td>\n",
              "      <td>2</td>\n",
              "      <td>med</td>\n",
              "      <td>med</td>\n",
              "      <td>unacc</td>\n",
              "    </tr>\n",
              "  </tbody>\n",
              "</table>\n",
              "</div>\n",
              "    <div class=\"colab-df-buttons\">\n",
              "\n",
              "  <div class=\"colab-df-container\">\n",
              "    <button class=\"colab-df-convert\" onclick=\"convertToInteractive('df-b6a8b05e-4eb2-4029-8c4e-bf5b83fc8fc1')\"\n",
              "            title=\"Convert this dataframe to an interactive table.\"\n",
              "            style=\"display:none;\">\n",
              "\n",
              "  <svg xmlns=\"http://www.w3.org/2000/svg\" height=\"24px\" viewBox=\"0 -960 960 960\">\n",
              "    <path d=\"M120-120v-720h720v720H120Zm60-500h600v-160H180v160Zm220 220h160v-160H400v160Zm0 220h160v-160H400v160ZM180-400h160v-160H180v160Zm440 0h160v-160H620v160ZM180-180h160v-160H180v160Zm440 0h160v-160H620v160Z\"/>\n",
              "  </svg>\n",
              "    </button>\n",
              "\n",
              "  <style>\n",
              "    .colab-df-container {\n",
              "      display:flex;\n",
              "      gap: 12px;\n",
              "    }\n",
              "\n",
              "    .colab-df-convert {\n",
              "      background-color: #E8F0FE;\n",
              "      border: none;\n",
              "      border-radius: 50%;\n",
              "      cursor: pointer;\n",
              "      display: none;\n",
              "      fill: #1967D2;\n",
              "      height: 32px;\n",
              "      padding: 0 0 0 0;\n",
              "      width: 32px;\n",
              "    }\n",
              "\n",
              "    .colab-df-convert:hover {\n",
              "      background-color: #E2EBFA;\n",
              "      box-shadow: 0px 1px 2px rgba(60, 64, 67, 0.3), 0px 1px 3px 1px rgba(60, 64, 67, 0.15);\n",
              "      fill: #174EA6;\n",
              "    }\n",
              "\n",
              "    .colab-df-buttons div {\n",
              "      margin-bottom: 4px;\n",
              "    }\n",
              "\n",
              "    [theme=dark] .colab-df-convert {\n",
              "      background-color: #3B4455;\n",
              "      fill: #D2E3FC;\n",
              "    }\n",
              "\n",
              "    [theme=dark] .colab-df-convert:hover {\n",
              "      background-color: #434B5C;\n",
              "      box-shadow: 0px 1px 3px 1px rgba(0, 0, 0, 0.15);\n",
              "      filter: drop-shadow(0px 1px 2px rgba(0, 0, 0, 0.3));\n",
              "      fill: #FFFFFF;\n",
              "    }\n",
              "  </style>\n",
              "\n",
              "    <script>\n",
              "      const buttonEl =\n",
              "        document.querySelector('#df-b6a8b05e-4eb2-4029-8c4e-bf5b83fc8fc1 button.colab-df-convert');\n",
              "      buttonEl.style.display =\n",
              "        google.colab.kernel.accessAllowed ? 'block' : 'none';\n",
              "\n",
              "      async function convertToInteractive(key) {\n",
              "        const element = document.querySelector('#df-b6a8b05e-4eb2-4029-8c4e-bf5b83fc8fc1');\n",
              "        const dataTable =\n",
              "          await google.colab.kernel.invokeFunction('convertToInteractive',\n",
              "                                                    [key], {});\n",
              "        if (!dataTable) return;\n",
              "\n",
              "        const docLinkHtml = 'Like what you see? Visit the ' +\n",
              "          '<a target=\"_blank\" href=https://colab.research.google.com/notebooks/data_table.ipynb>data table notebook</a>'\n",
              "          + ' to learn more about interactive tables.';\n",
              "        element.innerHTML = '';\n",
              "        dataTable['output_type'] = 'display_data';\n",
              "        await google.colab.output.renderOutput(dataTable, element);\n",
              "        const docLink = document.createElement('div');\n",
              "        docLink.innerHTML = docLinkHtml;\n",
              "        element.appendChild(docLink);\n",
              "      }\n",
              "    </script>\n",
              "  </div>\n",
              "\n",
              "\n",
              "<div id=\"df-f1240b3b-8a34-4821-abda-31838653d5b1\">\n",
              "  <button class=\"colab-df-quickchart\" onclick=\"quickchart('df-f1240b3b-8a34-4821-abda-31838653d5b1')\"\n",
              "            title=\"Suggest charts.\"\n",
              "            style=\"display:none;\">\n",
              "\n",
              "<svg xmlns=\"http://www.w3.org/2000/svg\" height=\"24px\"viewBox=\"0 0 24 24\"\n",
              "     width=\"24px\">\n",
              "    <g>\n",
              "        <path d=\"M19 3H5c-1.1 0-2 .9-2 2v14c0 1.1.9 2 2 2h14c1.1 0 2-.9 2-2V5c0-1.1-.9-2-2-2zM9 17H7v-7h2v7zm4 0h-2V7h2v10zm4 0h-2v-4h2v4z\"/>\n",
              "    </g>\n",
              "</svg>\n",
              "  </button>\n",
              "\n",
              "<style>\n",
              "  .colab-df-quickchart {\n",
              "      --bg-color: #E8F0FE;\n",
              "      --fill-color: #1967D2;\n",
              "      --hover-bg-color: #E2EBFA;\n",
              "      --hover-fill-color: #174EA6;\n",
              "      --disabled-fill-color: #AAA;\n",
              "      --disabled-bg-color: #DDD;\n",
              "  }\n",
              "\n",
              "  [theme=dark] .colab-df-quickchart {\n",
              "      --bg-color: #3B4455;\n",
              "      --fill-color: #D2E3FC;\n",
              "      --hover-bg-color: #434B5C;\n",
              "      --hover-fill-color: #FFFFFF;\n",
              "      --disabled-bg-color: #3B4455;\n",
              "      --disabled-fill-color: #666;\n",
              "  }\n",
              "\n",
              "  .colab-df-quickchart {\n",
              "    background-color: var(--bg-color);\n",
              "    border: none;\n",
              "    border-radius: 50%;\n",
              "    cursor: pointer;\n",
              "    display: none;\n",
              "    fill: var(--fill-color);\n",
              "    height: 32px;\n",
              "    padding: 0;\n",
              "    width: 32px;\n",
              "  }\n",
              "\n",
              "  .colab-df-quickchart:hover {\n",
              "    background-color: var(--hover-bg-color);\n",
              "    box-shadow: 0 1px 2px rgba(60, 64, 67, 0.3), 0 1px 3px 1px rgba(60, 64, 67, 0.15);\n",
              "    fill: var(--button-hover-fill-color);\n",
              "  }\n",
              "\n",
              "  .colab-df-quickchart-complete:disabled,\n",
              "  .colab-df-quickchart-complete:disabled:hover {\n",
              "    background-color: var(--disabled-bg-color);\n",
              "    fill: var(--disabled-fill-color);\n",
              "    box-shadow: none;\n",
              "  }\n",
              "\n",
              "  .colab-df-spinner {\n",
              "    border: 2px solid var(--fill-color);\n",
              "    border-color: transparent;\n",
              "    border-bottom-color: var(--fill-color);\n",
              "    animation:\n",
              "      spin 1s steps(1) infinite;\n",
              "  }\n",
              "\n",
              "  @keyframes spin {\n",
              "    0% {\n",
              "      border-color: transparent;\n",
              "      border-bottom-color: var(--fill-color);\n",
              "      border-left-color: var(--fill-color);\n",
              "    }\n",
              "    20% {\n",
              "      border-color: transparent;\n",
              "      border-left-color: var(--fill-color);\n",
              "      border-top-color: var(--fill-color);\n",
              "    }\n",
              "    30% {\n",
              "      border-color: transparent;\n",
              "      border-left-color: var(--fill-color);\n",
              "      border-top-color: var(--fill-color);\n",
              "      border-right-color: var(--fill-color);\n",
              "    }\n",
              "    40% {\n",
              "      border-color: transparent;\n",
              "      border-right-color: var(--fill-color);\n",
              "      border-top-color: var(--fill-color);\n",
              "    }\n",
              "    60% {\n",
              "      border-color: transparent;\n",
              "      border-right-color: var(--fill-color);\n",
              "    }\n",
              "    80% {\n",
              "      border-color: transparent;\n",
              "      border-right-color: var(--fill-color);\n",
              "      border-bottom-color: var(--fill-color);\n",
              "    }\n",
              "    90% {\n",
              "      border-color: transparent;\n",
              "      border-bottom-color: var(--fill-color);\n",
              "    }\n",
              "  }\n",
              "</style>\n",
              "\n",
              "  <script>\n",
              "    async function quickchart(key) {\n",
              "      const quickchartButtonEl =\n",
              "        document.querySelector('#' + key + ' button');\n",
              "      quickchartButtonEl.disabled = true;  // To prevent multiple clicks.\n",
              "      quickchartButtonEl.classList.add('colab-df-spinner');\n",
              "      try {\n",
              "        const charts = await google.colab.kernel.invokeFunction(\n",
              "            'suggestCharts', [key], {});\n",
              "      } catch (error) {\n",
              "        console.error('Error during call to suggestCharts:', error);\n",
              "      }\n",
              "      quickchartButtonEl.classList.remove('colab-df-spinner');\n",
              "      quickchartButtonEl.classList.add('colab-df-quickchart-complete');\n",
              "    }\n",
              "    (() => {\n",
              "      let quickchartButtonEl =\n",
              "        document.querySelector('#df-f1240b3b-8a34-4821-abda-31838653d5b1 button');\n",
              "      quickchartButtonEl.style.display =\n",
              "        google.colab.kernel.accessAllowed ? 'block' : 'none';\n",
              "    })();\n",
              "  </script>\n",
              "</div>\n",
              "    </div>\n",
              "  </div>\n"
            ]
          },
          "metadata": {},
          "execution_count": 28
        }
      ]
    },
    {
      "cell_type": "code",
      "source": [
        "df['y'].value_counts()"
      ],
      "metadata": {
        "colab": {
          "base_uri": "https://localhost:8080/"
        },
        "id": "5Y7FS7FfEFPK",
        "outputId": "0f0d6120-520b-48bf-d663-ba674be976ae"
      },
      "execution_count": 29,
      "outputs": [
        {
          "output_type": "execute_result",
          "data": {
            "text/plain": [
              "unacc    1210\n",
              "acc       384\n",
              "good       69\n",
              "vgood      65\n",
              "Name: y, dtype: int64"
            ]
          },
          "metadata": {},
          "execution_count": 29
        }
      ]
    },
    {
      "cell_type": "code",
      "source": [
        "df.isnull().sum() #cheack for null values"
      ],
      "metadata": {
        "colab": {
          "base_uri": "https://localhost:8080/"
        },
        "id": "yfdsUzqrEIY8",
        "outputId": "70cca45b-5fea-4a92-9cbb-27e456f2cc31"
      },
      "execution_count": 30,
      "outputs": [
        {
          "output_type": "execute_result",
          "data": {
            "text/plain": [
              "buying      0\n",
              "maint       0\n",
              "doors       0\n",
              "persons     0\n",
              "lug_boot    0\n",
              "safety      0\n",
              "y           0\n",
              "dtype: int64"
            ]
          },
          "metadata": {},
          "execution_count": 30
        }
      ]
    },
    {
      "cell_type": "code",
      "source": [
        "# encoding\n",
        "\n",
        "from sklearn.preprocessing import LabelEncoder\n",
        "\n",
        "le = LabelEncoder()\n",
        "for col in df.columns:\n",
        "    if df[col].dtype == 'object':\n",
        "        df[col] = le.fit_transform(df[col]) # transfroming the data types\n",
        "\n",
        "#df = df.astype('int') forcing datatypes to be  int\n",
        "\n",
        "df.dtypes"
      ],
      "metadata": {
        "colab": {
          "base_uri": "https://localhost:8080/"
        },
        "id": "Q7BAz-WmEjWR",
        "outputId": "f62cacd1-e3a0-48f8-cff7-4b4f8ece7ee7"
      },
      "execution_count": 31,
      "outputs": [
        {
          "output_type": "execute_result",
          "data": {
            "text/plain": [
              "buying      int64\n",
              "maint       int64\n",
              "doors       int64\n",
              "persons     int64\n",
              "lug_boot    int64\n",
              "safety      int64\n",
              "y           int64\n",
              "dtype: object"
            ]
          },
          "metadata": {},
          "execution_count": 31
        }
      ]
    },
    {
      "cell_type": "code",
      "source": [
        "from sklearn.model_selection import train_test_split as tts\n",
        "\n",
        "newX  = df.drop('y', axis = 1)\n",
        "newy  = df['y']"
      ],
      "metadata": {
        "id": "KJMOD540Ggw3"
      },
      "execution_count": 32,
      "outputs": []
    },
    {
      "cell_type": "code",
      "source": [
        "Xtr,Xts, ytr,yts = tts(newX,newy, test_size = 0.2, random_state=42)\n",
        "\n",
        "print(Xtr.shape, ytr.shape)\n",
        "print(Xts.shape, yts.shape)\n"
      ],
      "metadata": {
        "colab": {
          "base_uri": "https://localhost:8080/"
        },
        "id": "rlhJ5fXrHK7s",
        "outputId": "21a53f78-5ed9-4a41-ada8-114c2fc9a621"
      },
      "execution_count": 33,
      "outputs": [
        {
          "output_type": "stream",
          "name": "stdout",
          "text": [
            "(1382, 6) (1382,)\n",
            "(346, 6) (346,)\n"
          ]
        }
      ]
    },
    {
      "cell_type": "code",
      "source": [
        "df.shape  #tensorflow, pytorch"
      ],
      "metadata": {
        "colab": {
          "base_uri": "https://localhost:8080/"
        },
        "id": "nRynki-PH09P",
        "outputId": "2460f33a-d460-4e2c-e337-5cc597bc46fa"
      },
      "execution_count": 34,
      "outputs": [
        {
          "output_type": "execute_result",
          "data": {
            "text/plain": [
              "(1728, 7)"
            ]
          },
          "metadata": {},
          "execution_count": 34
        }
      ]
    },
    {
      "cell_type": "code",
      "source": [
        "import numpy as np\n",
        "\n",
        "from keras.models import  Sequential\n",
        "from keras.layers import  Dense\n",
        "\n",
        "import tensorflow as tf\n",
        "\n",
        "print(tf.__version__)"
      ],
      "metadata": {
        "colab": {
          "base_uri": "https://localhost:8080/"
        },
        "id": "o_X1FzCCH33p",
        "outputId": "145f5c54-41ce-4fe3-e6f6-6cd3175f7a3a"
      },
      "execution_count": 35,
      "outputs": [
        {
          "output_type": "stream",
          "name": "stdout",
          "text": [
            "2.14.0\n"
          ]
        }
      ]
    },
    {
      "cell_type": "code",
      "source": [
        "num_classes = int(len(df['y'].unique()))\n",
        "num_features = int(Xtr.shape[1])\n",
        "\n",
        "print(num_classes, num_features)\n"
      ],
      "metadata": {
        "colab": {
          "base_uri": "https://localhost:8080/"
        },
        "id": "UA9XeKq_MZm2",
        "outputId": "4b267f07-108a-4aaa-c3c4-de2030f79835"
      },
      "execution_count": 36,
      "outputs": [
        {
          "output_type": "stream",
          "name": "stdout",
          "text": [
            "4 6\n"
          ]
        }
      ]
    },
    {
      "cell_type": "code",
      "source": [
        "model = Sequential()\n",
        "\n",
        "#input layer\n",
        "\n",
        "model.add(Dense(128, input_dim = num_features, activation ='relu'))\n",
        "\n",
        "#hidden layers\n",
        "\n",
        "model.add(Dense(64, activation = 'relu'))\n",
        "model.add(Dense(32, activation = 'relu'))\n",
        "\n",
        "#output layer\n",
        "\n",
        "model.add(Dense(num_classes, activation = 'softmax'))\n",
        "\n",
        "model.compile(\n",
        "    loss = 'sparse_categorical_crossentropy' , # Slides on Decision tree\n",
        "    optimizer = 'adam',\n",
        "    metrics = ['accuracy']\n",
        ")\n",
        "\n",
        "model.summary()"
      ],
      "metadata": {
        "colab": {
          "base_uri": "https://localhost:8080/"
        },
        "id": "bGIgZNmnM5cu",
        "outputId": "654aafcc-1217-4335-cc92-2b1872d3fc90"
      },
      "execution_count": 37,
      "outputs": [
        {
          "output_type": "stream",
          "name": "stdout",
          "text": [
            "Model: \"sequential_1\"\n",
            "_________________________________________________________________\n",
            " Layer (type)                Output Shape              Param #   \n",
            "=================================================================\n",
            " dense_4 (Dense)             (None, 128)               896       \n",
            "                                                                 \n",
            " dense_5 (Dense)             (None, 64)                8256      \n",
            "                                                                 \n",
            " dense_6 (Dense)             (None, 32)                2080      \n",
            "                                                                 \n",
            " dense_7 (Dense)             (None, 4)                 132       \n",
            "                                                                 \n",
            "=================================================================\n",
            "Total params: 11364 (44.39 KB)\n",
            "Trainable params: 11364 (44.39 KB)\n",
            "Non-trainable params: 0 (0.00 Byte)\n",
            "_________________________________________________________________\n"
          ]
        }
      ]
    },
    {
      "cell_type": "code",
      "source": [
        "history = model.fit(Xtr, ytr, epochs = 200, validation_split = 0.2)"
      ],
      "metadata": {
        "colab": {
          "base_uri": "https://localhost:8080/"
        },
        "id": "raz2_SyqQNWt",
        "outputId": "c2cff477-bbd5-4b0a-aa25-698e8e418a97"
      },
      "execution_count": 38,
      "outputs": [
        {
          "output_type": "stream",
          "name": "stdout",
          "text": [
            "Epoch 1/200\n",
            "35/35 [==============================] - 1s 7ms/step - loss: 1.0479 - accuracy: 0.6489 - val_loss: 0.9381 - val_accuracy: 0.6498\n",
            "Epoch 2/200\n",
            "35/35 [==============================] - 0s 4ms/step - loss: 0.7219 - accuracy: 0.7231 - val_loss: 0.8253 - val_accuracy: 0.6751\n",
            "Epoch 3/200\n",
            "35/35 [==============================] - 0s 4ms/step - loss: 0.6566 - accuracy: 0.7285 - val_loss: 0.7452 - val_accuracy: 0.7040\n",
            "Epoch 4/200\n",
            "35/35 [==============================] - 0s 6ms/step - loss: 0.6098 - accuracy: 0.7448 - val_loss: 0.6971 - val_accuracy: 0.7256\n",
            "Epoch 5/200\n",
            "35/35 [==============================] - 0s 6ms/step - loss: 0.5653 - accuracy: 0.7656 - val_loss: 0.6440 - val_accuracy: 0.7292\n",
            "Epoch 6/200\n",
            "35/35 [==============================] - 0s 5ms/step - loss: 0.5140 - accuracy: 0.7846 - val_loss: 0.6066 - val_accuracy: 0.7473\n",
            "Epoch 7/200\n",
            "35/35 [==============================] - 0s 6ms/step - loss: 0.4624 - accuracy: 0.8054 - val_loss: 0.5266 - val_accuracy: 0.7870\n",
            "Epoch 8/200\n",
            "35/35 [==============================] - 0s 5ms/step - loss: 0.4167 - accuracy: 0.8235 - val_loss: 0.4869 - val_accuracy: 0.7834\n",
            "Epoch 9/200\n",
            "35/35 [==============================] - 0s 6ms/step - loss: 0.3646 - accuracy: 0.8534 - val_loss: 0.4875 - val_accuracy: 0.7798\n",
            "Epoch 10/200\n",
            "35/35 [==============================] - 0s 5ms/step - loss: 0.3497 - accuracy: 0.8498 - val_loss: 0.3959 - val_accuracy: 0.8520\n",
            "Epoch 11/200\n",
            "35/35 [==============================] - 0s 4ms/step - loss: 0.3197 - accuracy: 0.8670 - val_loss: 0.3865 - val_accuracy: 0.8267\n",
            "Epoch 12/200\n",
            "35/35 [==============================] - 0s 4ms/step - loss: 0.2882 - accuracy: 0.8860 - val_loss: 0.3481 - val_accuracy: 0.8484\n",
            "Epoch 13/200\n",
            "35/35 [==============================] - 0s 3ms/step - loss: 0.2701 - accuracy: 0.8824 - val_loss: 0.3394 - val_accuracy: 0.8520\n",
            "Epoch 14/200\n",
            "35/35 [==============================] - 0s 3ms/step - loss: 0.2567 - accuracy: 0.8824 - val_loss: 0.3091 - val_accuracy: 0.8664\n",
            "Epoch 15/200\n",
            "35/35 [==============================] - 0s 3ms/step - loss: 0.2527 - accuracy: 0.8842 - val_loss: 0.3025 - val_accuracy: 0.8736\n",
            "Epoch 16/200\n",
            "35/35 [==============================] - 0s 3ms/step - loss: 0.2288 - accuracy: 0.9014 - val_loss: 0.2713 - val_accuracy: 0.8809\n",
            "Epoch 17/200\n",
            "35/35 [==============================] - 0s 4ms/step - loss: 0.2176 - accuracy: 0.9050 - val_loss: 0.2678 - val_accuracy: 0.8736\n",
            "Epoch 18/200\n",
            "35/35 [==============================] - 0s 4ms/step - loss: 0.1911 - accuracy: 0.9267 - val_loss: 0.2510 - val_accuracy: 0.8953\n",
            "Epoch 19/200\n",
            "35/35 [==============================] - 0s 4ms/step - loss: 0.1796 - accuracy: 0.9330 - val_loss: 0.2198 - val_accuracy: 0.9097\n",
            "Epoch 20/200\n",
            "35/35 [==============================] - 0s 4ms/step - loss: 0.1744 - accuracy: 0.9321 - val_loss: 0.2500 - val_accuracy: 0.8845\n",
            "Epoch 21/200\n",
            "35/35 [==============================] - 0s 3ms/step - loss: 0.1657 - accuracy: 0.9376 - val_loss: 0.2336 - val_accuracy: 0.8989\n",
            "Epoch 22/200\n",
            "35/35 [==============================] - 0s 3ms/step - loss: 0.1463 - accuracy: 0.9566 - val_loss: 0.1882 - val_accuracy: 0.9242\n",
            "Epoch 23/200\n",
            "35/35 [==============================] - 0s 3ms/step - loss: 0.1319 - accuracy: 0.9575 - val_loss: 0.1733 - val_accuracy: 0.9458\n",
            "Epoch 24/200\n",
            "35/35 [==============================] - 0s 3ms/step - loss: 0.1303 - accuracy: 0.9593 - val_loss: 0.1789 - val_accuracy: 0.9278\n",
            "Epoch 25/200\n",
            "35/35 [==============================] - 0s 3ms/step - loss: 0.1268 - accuracy: 0.9566 - val_loss: 0.1704 - val_accuracy: 0.9134\n",
            "Epoch 26/200\n",
            "35/35 [==============================] - 0s 3ms/step - loss: 0.1224 - accuracy: 0.9566 - val_loss: 0.1617 - val_accuracy: 0.9350\n",
            "Epoch 27/200\n",
            "35/35 [==============================] - 0s 3ms/step - loss: 0.0977 - accuracy: 0.9756 - val_loss: 0.1739 - val_accuracy: 0.9134\n",
            "Epoch 28/200\n",
            "35/35 [==============================] - 0s 3ms/step - loss: 0.0923 - accuracy: 0.9710 - val_loss: 0.1335 - val_accuracy: 0.9639\n",
            "Epoch 29/200\n",
            "35/35 [==============================] - 0s 3ms/step - loss: 0.0855 - accuracy: 0.9765 - val_loss: 0.1249 - val_accuracy: 0.9531\n",
            "Epoch 30/200\n",
            "35/35 [==============================] - 0s 3ms/step - loss: 0.0960 - accuracy: 0.9665 - val_loss: 0.1542 - val_accuracy: 0.9314\n",
            "Epoch 31/200\n",
            "35/35 [==============================] - 0s 5ms/step - loss: 0.0787 - accuracy: 0.9810 - val_loss: 0.1329 - val_accuracy: 0.9495\n",
            "Epoch 32/200\n",
            "35/35 [==============================] - 0s 6ms/step - loss: 0.0719 - accuracy: 0.9846 - val_loss: 0.1204 - val_accuracy: 0.9531\n",
            "Epoch 33/200\n",
            "35/35 [==============================] - 0s 3ms/step - loss: 0.0651 - accuracy: 0.9864 - val_loss: 0.1298 - val_accuracy: 0.9278\n",
            "Epoch 34/200\n",
            "35/35 [==============================] - 0s 3ms/step - loss: 0.0572 - accuracy: 0.9928 - val_loss: 0.1255 - val_accuracy: 0.9531\n",
            "Epoch 35/200\n",
            "35/35 [==============================] - 0s 3ms/step - loss: 0.0657 - accuracy: 0.9846 - val_loss: 0.1294 - val_accuracy: 0.9495\n",
            "Epoch 36/200\n",
            "35/35 [==============================] - 0s 3ms/step - loss: 0.0591 - accuracy: 0.9873 - val_loss: 0.1255 - val_accuracy: 0.9567\n",
            "Epoch 37/200\n",
            "35/35 [==============================] - 0s 3ms/step - loss: 0.0557 - accuracy: 0.9846 - val_loss: 0.1309 - val_accuracy: 0.9314\n",
            "Epoch 38/200\n",
            "35/35 [==============================] - 0s 3ms/step - loss: 0.0493 - accuracy: 0.9900 - val_loss: 0.1048 - val_accuracy: 0.9567\n",
            "Epoch 39/200\n",
            "35/35 [==============================] - 0s 3ms/step - loss: 0.0399 - accuracy: 0.9946 - val_loss: 0.1037 - val_accuracy: 0.9495\n",
            "Epoch 40/200\n",
            "35/35 [==============================] - 0s 3ms/step - loss: 0.0393 - accuracy: 0.9937 - val_loss: 0.1245 - val_accuracy: 0.9278\n",
            "Epoch 41/200\n",
            "35/35 [==============================] - 0s 3ms/step - loss: 0.0402 - accuracy: 0.9964 - val_loss: 0.1005 - val_accuracy: 0.9531\n",
            "Epoch 42/200\n",
            "35/35 [==============================] - 0s 3ms/step - loss: 0.0442 - accuracy: 0.9910 - val_loss: 0.1007 - val_accuracy: 0.9531\n",
            "Epoch 43/200\n",
            "35/35 [==============================] - 0s 3ms/step - loss: 0.0324 - accuracy: 0.9964 - val_loss: 0.1059 - val_accuracy: 0.9495\n",
            "Epoch 44/200\n",
            "35/35 [==============================] - 0s 3ms/step - loss: 0.0310 - accuracy: 0.9955 - val_loss: 0.1189 - val_accuracy: 0.9458\n",
            "Epoch 45/200\n",
            "35/35 [==============================] - 0s 3ms/step - loss: 0.0328 - accuracy: 0.9973 - val_loss: 0.1009 - val_accuracy: 0.9422\n",
            "Epoch 46/200\n",
            "35/35 [==============================] - 0s 3ms/step - loss: 0.0259 - accuracy: 0.9982 - val_loss: 0.1082 - val_accuracy: 0.9422\n",
            "Epoch 47/200\n",
            "35/35 [==============================] - 0s 3ms/step - loss: 0.0268 - accuracy: 0.9946 - val_loss: 0.1134 - val_accuracy: 0.9495\n",
            "Epoch 48/200\n",
            "35/35 [==============================] - 0s 3ms/step - loss: 0.0240 - accuracy: 0.9982 - val_loss: 0.0967 - val_accuracy: 0.9422\n",
            "Epoch 49/200\n",
            "35/35 [==============================] - 0s 3ms/step - loss: 0.0232 - accuracy: 0.9973 - val_loss: 0.0977 - val_accuracy: 0.9495\n",
            "Epoch 50/200\n",
            "35/35 [==============================] - 0s 3ms/step - loss: 0.0338 - accuracy: 0.9928 - val_loss: 0.1011 - val_accuracy: 0.9531\n",
            "Epoch 51/200\n",
            "35/35 [==============================] - 0s 3ms/step - loss: 0.0232 - accuracy: 0.9982 - val_loss: 0.1309 - val_accuracy: 0.9314\n",
            "Epoch 52/200\n",
            "35/35 [==============================] - 0s 3ms/step - loss: 0.0206 - accuracy: 0.9991 - val_loss: 0.1156 - val_accuracy: 0.9386\n",
            "Epoch 53/200\n",
            "35/35 [==============================] - 0s 3ms/step - loss: 0.0188 - accuracy: 0.9991 - val_loss: 0.0789 - val_accuracy: 0.9603\n",
            "Epoch 54/200\n",
            "35/35 [==============================] - 0s 3ms/step - loss: 0.0177 - accuracy: 1.0000 - val_loss: 0.0869 - val_accuracy: 0.9603\n",
            "Epoch 55/200\n",
            "35/35 [==============================] - 0s 3ms/step - loss: 0.0159 - accuracy: 0.9991 - val_loss: 0.1028 - val_accuracy: 0.9531\n",
            "Epoch 56/200\n",
            "35/35 [==============================] - 0s 3ms/step - loss: 0.0188 - accuracy: 0.9964 - val_loss: 0.0912 - val_accuracy: 0.9531\n",
            "Epoch 57/200\n",
            "35/35 [==============================] - 0s 3ms/step - loss: 0.0147 - accuracy: 0.9991 - val_loss: 0.1098 - val_accuracy: 0.9495\n",
            "Epoch 58/200\n",
            "35/35 [==============================] - 0s 3ms/step - loss: 0.0165 - accuracy: 0.9982 - val_loss: 0.1119 - val_accuracy: 0.9603\n",
            "Epoch 59/200\n",
            "35/35 [==============================] - 0s 4ms/step - loss: 0.0146 - accuracy: 0.9991 - val_loss: 0.0873 - val_accuracy: 0.9603\n",
            "Epoch 60/200\n",
            "35/35 [==============================] - 0s 3ms/step - loss: 0.0130 - accuracy: 1.0000 - val_loss: 0.0917 - val_accuracy: 0.9567\n",
            "Epoch 61/200\n",
            "35/35 [==============================] - 0s 3ms/step - loss: 0.0117 - accuracy: 1.0000 - val_loss: 0.0895 - val_accuracy: 0.9675\n",
            "Epoch 62/200\n",
            "35/35 [==============================] - 0s 3ms/step - loss: 0.0114 - accuracy: 1.0000 - val_loss: 0.1036 - val_accuracy: 0.9531\n",
            "Epoch 63/200\n",
            "35/35 [==============================] - 0s 3ms/step - loss: 0.0111 - accuracy: 1.0000 - val_loss: 0.0948 - val_accuracy: 0.9567\n",
            "Epoch 64/200\n",
            "35/35 [==============================] - 0s 3ms/step - loss: 0.0133 - accuracy: 0.9991 - val_loss: 0.0857 - val_accuracy: 0.9639\n",
            "Epoch 65/200\n",
            "35/35 [==============================] - 0s 3ms/step - loss: 0.0130 - accuracy: 1.0000 - val_loss: 0.1008 - val_accuracy: 0.9495\n",
            "Epoch 66/200\n",
            "35/35 [==============================] - 0s 3ms/step - loss: 0.0307 - accuracy: 0.9873 - val_loss: 0.1966 - val_accuracy: 0.9458\n",
            "Epoch 67/200\n",
            "35/35 [==============================] - 0s 3ms/step - loss: 0.0572 - accuracy: 0.9783 - val_loss: 0.1313 - val_accuracy: 0.9422\n",
            "Epoch 68/200\n",
            "35/35 [==============================] - 0s 3ms/step - loss: 0.0302 - accuracy: 0.9928 - val_loss: 0.0788 - val_accuracy: 0.9675\n",
            "Epoch 69/200\n",
            "35/35 [==============================] - 0s 3ms/step - loss: 0.0188 - accuracy: 0.9946 - val_loss: 0.1077 - val_accuracy: 0.9567\n",
            "Epoch 70/200\n",
            "35/35 [==============================] - 0s 3ms/step - loss: 0.0097 - accuracy: 1.0000 - val_loss: 0.1278 - val_accuracy: 0.9567\n",
            "Epoch 71/200\n",
            "35/35 [==============================] - 0s 3ms/step - loss: 0.0094 - accuracy: 1.0000 - val_loss: 0.0865 - val_accuracy: 0.9531\n",
            "Epoch 72/200\n",
            "35/35 [==============================] - 0s 3ms/step - loss: 0.0072 - accuracy: 1.0000 - val_loss: 0.0996 - val_accuracy: 0.9495\n",
            "Epoch 73/200\n",
            "35/35 [==============================] - 0s 3ms/step - loss: 0.0067 - accuracy: 1.0000 - val_loss: 0.1173 - val_accuracy: 0.9495\n",
            "Epoch 74/200\n",
            "35/35 [==============================] - 0s 3ms/step - loss: 0.0074 - accuracy: 1.0000 - val_loss: 0.0892 - val_accuracy: 0.9567\n",
            "Epoch 75/200\n",
            "35/35 [==============================] - 0s 3ms/step - loss: 0.0065 - accuracy: 1.0000 - val_loss: 0.0904 - val_accuracy: 0.9531\n",
            "Epoch 76/200\n",
            "35/35 [==============================] - 0s 6ms/step - loss: 0.0055 - accuracy: 1.0000 - val_loss: 0.0983 - val_accuracy: 0.9531\n",
            "Epoch 77/200\n",
            "35/35 [==============================] - 0s 5ms/step - loss: 0.0051 - accuracy: 1.0000 - val_loss: 0.0927 - val_accuracy: 0.9567\n",
            "Epoch 78/200\n",
            "35/35 [==============================] - 0s 5ms/step - loss: 0.0048 - accuracy: 1.0000 - val_loss: 0.1013 - val_accuracy: 0.9567\n",
            "Epoch 79/200\n",
            "35/35 [==============================] - 0s 6ms/step - loss: 0.0049 - accuracy: 1.0000 - val_loss: 0.0876 - val_accuracy: 0.9639\n",
            "Epoch 80/200\n",
            "35/35 [==============================] - 0s 4ms/step - loss: 0.0048 - accuracy: 1.0000 - val_loss: 0.0980 - val_accuracy: 0.9603\n",
            "Epoch 81/200\n",
            "35/35 [==============================] - 0s 5ms/step - loss: 0.0045 - accuracy: 1.0000 - val_loss: 0.0859 - val_accuracy: 0.9567\n",
            "Epoch 82/200\n",
            "35/35 [==============================] - 0s 6ms/step - loss: 0.0045 - accuracy: 1.0000 - val_loss: 0.0921 - val_accuracy: 0.9639\n",
            "Epoch 83/200\n",
            "35/35 [==============================] - 0s 7ms/step - loss: 0.0045 - accuracy: 1.0000 - val_loss: 0.0956 - val_accuracy: 0.9531\n",
            "Epoch 84/200\n",
            "35/35 [==============================] - 0s 5ms/step - loss: 0.0038 - accuracy: 1.0000 - val_loss: 0.1017 - val_accuracy: 0.9567\n",
            "Epoch 85/200\n",
            "35/35 [==============================] - 0s 6ms/step - loss: 0.0042 - accuracy: 1.0000 - val_loss: 0.1005 - val_accuracy: 0.9495\n",
            "Epoch 86/200\n",
            "35/35 [==============================] - 0s 4ms/step - loss: 0.0045 - accuracy: 1.0000 - val_loss: 0.1041 - val_accuracy: 0.9531\n",
            "Epoch 87/200\n",
            "35/35 [==============================] - 0s 6ms/step - loss: 0.0043 - accuracy: 1.0000 - val_loss: 0.1137 - val_accuracy: 0.9531\n",
            "Epoch 88/200\n",
            "35/35 [==============================] - 0s 9ms/step - loss: 0.0044 - accuracy: 1.0000 - val_loss: 0.0922 - val_accuracy: 0.9603\n",
            "Epoch 89/200\n",
            "35/35 [==============================] - 0s 11ms/step - loss: 0.0039 - accuracy: 1.0000 - val_loss: 0.0883 - val_accuracy: 0.9603\n",
            "Epoch 90/200\n",
            "35/35 [==============================] - 0s 10ms/step - loss: 0.0032 - accuracy: 1.0000 - val_loss: 0.0906 - val_accuracy: 0.9603\n",
            "Epoch 91/200\n",
            "35/35 [==============================] - 0s 11ms/step - loss: 0.0028 - accuracy: 1.0000 - val_loss: 0.0922 - val_accuracy: 0.9567\n",
            "Epoch 92/200\n",
            "35/35 [==============================] - 0s 10ms/step - loss: 0.0028 - accuracy: 1.0000 - val_loss: 0.1063 - val_accuracy: 0.9567\n",
            "Epoch 93/200\n",
            "35/35 [==============================] - 0s 12ms/step - loss: 0.0030 - accuracy: 1.0000 - val_loss: 0.0906 - val_accuracy: 0.9567\n",
            "Epoch 94/200\n",
            "35/35 [==============================] - 0s 7ms/step - loss: 0.0030 - accuracy: 1.0000 - val_loss: 0.0907 - val_accuracy: 0.9639\n",
            "Epoch 95/200\n",
            "35/35 [==============================] - 0s 11ms/step - loss: 0.0028 - accuracy: 1.0000 - val_loss: 0.0996 - val_accuracy: 0.9567\n",
            "Epoch 96/200\n",
            "35/35 [==============================] - 0s 5ms/step - loss: 0.0026 - accuracy: 1.0000 - val_loss: 0.0848 - val_accuracy: 0.9567\n",
            "Epoch 97/200\n",
            "35/35 [==============================] - 0s 5ms/step - loss: 0.0026 - accuracy: 1.0000 - val_loss: 0.0986 - val_accuracy: 0.9567\n",
            "Epoch 98/200\n",
            "35/35 [==============================] - 0s 7ms/step - loss: 0.0026 - accuracy: 1.0000 - val_loss: 0.0904 - val_accuracy: 0.9603\n",
            "Epoch 99/200\n",
            "35/35 [==============================] - 0s 7ms/step - loss: 0.0024 - accuracy: 1.0000 - val_loss: 0.0962 - val_accuracy: 0.9567\n",
            "Epoch 100/200\n",
            "35/35 [==============================] - 0s 5ms/step - loss: 0.0022 - accuracy: 1.0000 - val_loss: 0.1044 - val_accuracy: 0.9603\n",
            "Epoch 101/200\n",
            "35/35 [==============================] - 0s 5ms/step - loss: 0.0021 - accuracy: 1.0000 - val_loss: 0.1012 - val_accuracy: 0.9567\n",
            "Epoch 102/200\n",
            "35/35 [==============================] - 0s 5ms/step - loss: 0.0020 - accuracy: 1.0000 - val_loss: 0.1079 - val_accuracy: 0.9603\n",
            "Epoch 103/200\n",
            "35/35 [==============================] - 0s 7ms/step - loss: 0.0021 - accuracy: 1.0000 - val_loss: 0.0990 - val_accuracy: 0.9567\n",
            "Epoch 104/200\n",
            "35/35 [==============================] - 0s 5ms/step - loss: 0.0020 - accuracy: 1.0000 - val_loss: 0.1009 - val_accuracy: 0.9603\n",
            "Epoch 105/200\n",
            "35/35 [==============================] - 0s 6ms/step - loss: 0.0019 - accuracy: 1.0000 - val_loss: 0.1045 - val_accuracy: 0.9567\n",
            "Epoch 106/200\n",
            "35/35 [==============================] - 0s 7ms/step - loss: 0.0018 - accuracy: 1.0000 - val_loss: 0.0996 - val_accuracy: 0.9495\n",
            "Epoch 107/200\n",
            "35/35 [==============================] - 0s 7ms/step - loss: 0.0018 - accuracy: 1.0000 - val_loss: 0.0976 - val_accuracy: 0.9567\n",
            "Epoch 108/200\n",
            "35/35 [==============================] - 0s 9ms/step - loss: 0.0018 - accuracy: 1.0000 - val_loss: 0.1006 - val_accuracy: 0.9603\n",
            "Epoch 109/200\n",
            "35/35 [==============================] - 0s 6ms/step - loss: 0.0017 - accuracy: 1.0000 - val_loss: 0.1130 - val_accuracy: 0.9567\n",
            "Epoch 110/200\n",
            "35/35 [==============================] - 0s 6ms/step - loss: 0.0017 - accuracy: 1.0000 - val_loss: 0.1047 - val_accuracy: 0.9603\n",
            "Epoch 111/200\n",
            "35/35 [==============================] - 0s 6ms/step - loss: 0.0016 - accuracy: 1.0000 - val_loss: 0.1100 - val_accuracy: 0.9603\n",
            "Epoch 112/200\n",
            "35/35 [==============================] - 0s 8ms/step - loss: 0.0015 - accuracy: 1.0000 - val_loss: 0.1019 - val_accuracy: 0.9603\n",
            "Epoch 113/200\n",
            "35/35 [==============================] - 0s 5ms/step - loss: 0.0015 - accuracy: 1.0000 - val_loss: 0.0988 - val_accuracy: 0.9639\n",
            "Epoch 114/200\n",
            "35/35 [==============================] - 0s 7ms/step - loss: 0.0015 - accuracy: 1.0000 - val_loss: 0.0977 - val_accuracy: 0.9567\n",
            "Epoch 115/200\n",
            "35/35 [==============================] - 0s 8ms/step - loss: 0.0016 - accuracy: 1.0000 - val_loss: 0.1094 - val_accuracy: 0.9567\n",
            "Epoch 116/200\n",
            "35/35 [==============================] - 0s 5ms/step - loss: 0.0014 - accuracy: 1.0000 - val_loss: 0.1106 - val_accuracy: 0.9603\n",
            "Epoch 117/200\n",
            "35/35 [==============================] - 0s 6ms/step - loss: 0.0013 - accuracy: 1.0000 - val_loss: 0.1100 - val_accuracy: 0.9603\n",
            "Epoch 118/200\n",
            "35/35 [==============================] - 0s 4ms/step - loss: 0.0012 - accuracy: 1.0000 - val_loss: 0.1097 - val_accuracy: 0.9603\n",
            "Epoch 119/200\n",
            "35/35 [==============================] - 0s 6ms/step - loss: 0.0011 - accuracy: 1.0000 - val_loss: 0.1037 - val_accuracy: 0.9639\n",
            "Epoch 120/200\n",
            "35/35 [==============================] - 0s 5ms/step - loss: 0.0011 - accuracy: 1.0000 - val_loss: 0.0987 - val_accuracy: 0.9603\n",
            "Epoch 121/200\n",
            "35/35 [==============================] - 0s 5ms/step - loss: 0.0011 - accuracy: 1.0000 - val_loss: 0.1120 - val_accuracy: 0.9603\n",
            "Epoch 122/200\n",
            "35/35 [==============================] - 0s 5ms/step - loss: 0.0011 - accuracy: 1.0000 - val_loss: 0.1134 - val_accuracy: 0.9603\n",
            "Epoch 123/200\n",
            "35/35 [==============================] - 0s 5ms/step - loss: 0.0010 - accuracy: 1.0000 - val_loss: 0.1063 - val_accuracy: 0.9603\n",
            "Epoch 124/200\n",
            "35/35 [==============================] - 0s 5ms/step - loss: 0.0011 - accuracy: 1.0000 - val_loss: 0.1133 - val_accuracy: 0.9567\n",
            "Epoch 125/200\n",
            "35/35 [==============================] - 0s 4ms/step - loss: 0.0010 - accuracy: 1.0000 - val_loss: 0.1093 - val_accuracy: 0.9567\n",
            "Epoch 126/200\n",
            "35/35 [==============================] - 0s 5ms/step - loss: 9.2005e-04 - accuracy: 1.0000 - val_loss: 0.0965 - val_accuracy: 0.9603\n",
            "Epoch 127/200\n",
            "35/35 [==============================] - 0s 7ms/step - loss: 8.7941e-04 - accuracy: 1.0000 - val_loss: 0.1043 - val_accuracy: 0.9603\n",
            "Epoch 128/200\n",
            "35/35 [==============================] - 0s 7ms/step - loss: 9.2905e-04 - accuracy: 1.0000 - val_loss: 0.1203 - val_accuracy: 0.9603\n",
            "Epoch 129/200\n",
            "35/35 [==============================] - 0s 7ms/step - loss: 8.9633e-04 - accuracy: 1.0000 - val_loss: 0.1256 - val_accuracy: 0.9603\n",
            "Epoch 130/200\n",
            "35/35 [==============================] - 0s 5ms/step - loss: 8.8566e-04 - accuracy: 1.0000 - val_loss: 0.1213 - val_accuracy: 0.9567\n",
            "Epoch 131/200\n",
            "35/35 [==============================] - 0s 5ms/step - loss: 8.3487e-04 - accuracy: 1.0000 - val_loss: 0.1014 - val_accuracy: 0.9603\n",
            "Epoch 132/200\n",
            "35/35 [==============================] - 0s 5ms/step - loss: 7.7458e-04 - accuracy: 1.0000 - val_loss: 0.1148 - val_accuracy: 0.9603\n",
            "Epoch 133/200\n",
            "35/35 [==============================] - 0s 7ms/step - loss: 7.8085e-04 - accuracy: 1.0000 - val_loss: 0.1210 - val_accuracy: 0.9603\n",
            "Epoch 134/200\n",
            "35/35 [==============================] - 0s 7ms/step - loss: 7.2519e-04 - accuracy: 1.0000 - val_loss: 0.1088 - val_accuracy: 0.9603\n",
            "Epoch 135/200\n",
            "35/35 [==============================] - 0s 8ms/step - loss: 7.1532e-04 - accuracy: 1.0000 - val_loss: 0.1064 - val_accuracy: 0.9603\n",
            "Epoch 136/200\n",
            "35/35 [==============================] - 0s 8ms/step - loss: 7.1613e-04 - accuracy: 1.0000 - val_loss: 0.1086 - val_accuracy: 0.9603\n",
            "Epoch 137/200\n",
            "35/35 [==============================] - 0s 4ms/step - loss: 6.9205e-04 - accuracy: 1.0000 - val_loss: 0.1012 - val_accuracy: 0.9567\n",
            "Epoch 138/200\n",
            "35/35 [==============================] - 0s 5ms/step - loss: 7.2134e-04 - accuracy: 1.0000 - val_loss: 0.1075 - val_accuracy: 0.9567\n",
            "Epoch 139/200\n",
            "35/35 [==============================] - 0s 7ms/step - loss: 6.3958e-04 - accuracy: 1.0000 - val_loss: 0.1122 - val_accuracy: 0.9603\n",
            "Epoch 140/200\n",
            "35/35 [==============================] - 0s 10ms/step - loss: 6.1667e-04 - accuracy: 1.0000 - val_loss: 0.1277 - val_accuracy: 0.9603\n",
            "Epoch 141/200\n",
            "35/35 [==============================] - 0s 14ms/step - loss: 7.0118e-04 - accuracy: 1.0000 - val_loss: 0.1220 - val_accuracy: 0.9603\n",
            "Epoch 142/200\n",
            "35/35 [==============================] - 0s 12ms/step - loss: 5.8232e-04 - accuracy: 1.0000 - val_loss: 0.1135 - val_accuracy: 0.9567\n",
            "Epoch 143/200\n",
            "35/35 [==============================] - 0s 8ms/step - loss: 5.6056e-04 - accuracy: 1.0000 - val_loss: 0.1179 - val_accuracy: 0.9603\n",
            "Epoch 144/200\n",
            "35/35 [==============================] - 0s 10ms/step - loss: 5.4119e-04 - accuracy: 1.0000 - val_loss: 0.1164 - val_accuracy: 0.9567\n",
            "Epoch 145/200\n",
            "35/35 [==============================] - 1s 15ms/step - loss: 5.6496e-04 - accuracy: 1.0000 - val_loss: 0.1114 - val_accuracy: 0.9603\n",
            "Epoch 146/200\n",
            "35/35 [==============================] - 0s 10ms/step - loss: 5.4153e-04 - accuracy: 1.0000 - val_loss: 0.1046 - val_accuracy: 0.9639\n",
            "Epoch 147/200\n",
            "35/35 [==============================] - 0s 12ms/step - loss: 5.1718e-04 - accuracy: 1.0000 - val_loss: 0.1101 - val_accuracy: 0.9603\n",
            "Epoch 148/200\n",
            "35/35 [==============================] - 0s 8ms/step - loss: 5.3865e-04 - accuracy: 1.0000 - val_loss: 0.1205 - val_accuracy: 0.9603\n",
            "Epoch 149/200\n",
            "35/35 [==============================] - 0s 5ms/step - loss: 4.8729e-04 - accuracy: 1.0000 - val_loss: 0.1165 - val_accuracy: 0.9567\n",
            "Epoch 150/200\n",
            "35/35 [==============================] - 0s 5ms/step - loss: 4.4903e-04 - accuracy: 1.0000 - val_loss: 0.1233 - val_accuracy: 0.9567\n",
            "Epoch 151/200\n",
            "35/35 [==============================] - 0s 7ms/step - loss: 4.4407e-04 - accuracy: 1.0000 - val_loss: 0.1111 - val_accuracy: 0.9567\n",
            "Epoch 152/200\n",
            "35/35 [==============================] - 0s 6ms/step - loss: 4.4197e-04 - accuracy: 1.0000 - val_loss: 0.1186 - val_accuracy: 0.9603\n",
            "Epoch 153/200\n",
            "35/35 [==============================] - 0s 6ms/step - loss: 4.4441e-04 - accuracy: 1.0000 - val_loss: 0.1133 - val_accuracy: 0.9639\n",
            "Epoch 154/200\n",
            "35/35 [==============================] - 0s 7ms/step - loss: 4.0990e-04 - accuracy: 1.0000 - val_loss: 0.1166 - val_accuracy: 0.9603\n",
            "Epoch 155/200\n",
            "35/35 [==============================] - 0s 9ms/step - loss: 4.0752e-04 - accuracy: 1.0000 - val_loss: 0.1299 - val_accuracy: 0.9603\n",
            "Epoch 156/200\n",
            "35/35 [==============================] - 0s 7ms/step - loss: 4.1339e-04 - accuracy: 1.0000 - val_loss: 0.1295 - val_accuracy: 0.9603\n",
            "Epoch 157/200\n",
            "35/35 [==============================] - 0s 6ms/step - loss: 4.0894e-04 - accuracy: 1.0000 - val_loss: 0.1123 - val_accuracy: 0.9603\n",
            "Epoch 158/200\n",
            "35/35 [==============================] - 0s 6ms/step - loss: 3.5731e-04 - accuracy: 1.0000 - val_loss: 0.1210 - val_accuracy: 0.9603\n",
            "Epoch 159/200\n",
            "35/35 [==============================] - 0s 7ms/step - loss: 3.7209e-04 - accuracy: 1.0000 - val_loss: 0.1161 - val_accuracy: 0.9639\n",
            "Epoch 160/200\n",
            "35/35 [==============================] - 0s 6ms/step - loss: 3.6496e-04 - accuracy: 1.0000 - val_loss: 0.1188 - val_accuracy: 0.9603\n",
            "Epoch 161/200\n",
            "35/35 [==============================] - 0s 6ms/step - loss: 3.3830e-04 - accuracy: 1.0000 - val_loss: 0.1212 - val_accuracy: 0.9603\n",
            "Epoch 162/200\n",
            "35/35 [==============================] - 0s 4ms/step - loss: 3.4374e-04 - accuracy: 1.0000 - val_loss: 0.1307 - val_accuracy: 0.9603\n",
            "Epoch 163/200\n",
            "35/35 [==============================] - 0s 6ms/step - loss: 3.1420e-04 - accuracy: 1.0000 - val_loss: 0.1162 - val_accuracy: 0.9639\n",
            "Epoch 164/200\n",
            "35/35 [==============================] - 0s 8ms/step - loss: 3.1487e-04 - accuracy: 1.0000 - val_loss: 0.1303 - val_accuracy: 0.9603\n",
            "Epoch 165/200\n",
            "35/35 [==============================] - 0s 8ms/step - loss: 3.0237e-04 - accuracy: 1.0000 - val_loss: 0.1255 - val_accuracy: 0.9603\n",
            "Epoch 166/200\n",
            "35/35 [==============================] - 0s 3ms/step - loss: 2.9800e-04 - accuracy: 1.0000 - val_loss: 0.1193 - val_accuracy: 0.9567\n",
            "Epoch 167/200\n",
            "35/35 [==============================] - 0s 3ms/step - loss: 2.9731e-04 - accuracy: 1.0000 - val_loss: 0.1355 - val_accuracy: 0.9603\n",
            "Epoch 168/200\n",
            "35/35 [==============================] - 0s 3ms/step - loss: 2.9597e-04 - accuracy: 1.0000 - val_loss: 0.1256 - val_accuracy: 0.9603\n",
            "Epoch 169/200\n",
            "35/35 [==============================] - 0s 3ms/step - loss: 2.9127e-04 - accuracy: 1.0000 - val_loss: 0.1229 - val_accuracy: 0.9639\n",
            "Epoch 170/200\n",
            "35/35 [==============================] - 0s 3ms/step - loss: 2.7873e-04 - accuracy: 1.0000 - val_loss: 0.1195 - val_accuracy: 0.9603\n",
            "Epoch 171/200\n",
            "35/35 [==============================] - 0s 3ms/step - loss: 2.7446e-04 - accuracy: 1.0000 - val_loss: 0.1216 - val_accuracy: 0.9603\n",
            "Epoch 172/200\n",
            "35/35 [==============================] - 0s 4ms/step - loss: 2.6941e-04 - accuracy: 1.0000 - val_loss: 0.1165 - val_accuracy: 0.9567\n",
            "Epoch 173/200\n",
            "35/35 [==============================] - 0s 3ms/step - loss: 3.1084e-04 - accuracy: 1.0000 - val_loss: 0.1226 - val_accuracy: 0.9567\n",
            "Epoch 174/200\n",
            "35/35 [==============================] - 0s 3ms/step - loss: 2.8797e-04 - accuracy: 1.0000 - val_loss: 0.1178 - val_accuracy: 0.9567\n",
            "Epoch 175/200\n",
            "35/35 [==============================] - 0s 3ms/step - loss: 2.3337e-04 - accuracy: 1.0000 - val_loss: 0.1247 - val_accuracy: 0.9603\n",
            "Epoch 176/200\n",
            "35/35 [==============================] - 0s 3ms/step - loss: 2.2542e-04 - accuracy: 1.0000 - val_loss: 0.1249 - val_accuracy: 0.9603\n",
            "Epoch 177/200\n",
            "35/35 [==============================] - 0s 3ms/step - loss: 2.2301e-04 - accuracy: 1.0000 - val_loss: 0.1233 - val_accuracy: 0.9603\n",
            "Epoch 178/200\n",
            "35/35 [==============================] - 0s 3ms/step - loss: 2.2432e-04 - accuracy: 1.0000 - val_loss: 0.1272 - val_accuracy: 0.9639\n",
            "Epoch 179/200\n",
            "35/35 [==============================] - 0s 3ms/step - loss: 3.4442e-04 - accuracy: 1.0000 - val_loss: 0.1135 - val_accuracy: 0.9603\n",
            "Epoch 180/200\n",
            "35/35 [==============================] - 0s 3ms/step - loss: 2.7580e-04 - accuracy: 1.0000 - val_loss: 0.1146 - val_accuracy: 0.9675\n",
            "Epoch 181/200\n",
            "35/35 [==============================] - 0s 4ms/step - loss: 2.2960e-04 - accuracy: 1.0000 - val_loss: 0.1179 - val_accuracy: 0.9639\n",
            "Epoch 182/200\n",
            "35/35 [==============================] - 0s 3ms/step - loss: 2.0205e-04 - accuracy: 1.0000 - val_loss: 0.1238 - val_accuracy: 0.9639\n",
            "Epoch 183/200\n",
            "35/35 [==============================] - 0s 3ms/step - loss: 1.9884e-04 - accuracy: 1.0000 - val_loss: 0.1150 - val_accuracy: 0.9603\n",
            "Epoch 184/200\n",
            "35/35 [==============================] - 0s 3ms/step - loss: 1.9255e-04 - accuracy: 1.0000 - val_loss: 0.1258 - val_accuracy: 0.9639\n",
            "Epoch 185/200\n",
            "35/35 [==============================] - 0s 3ms/step - loss: 1.8804e-04 - accuracy: 1.0000 - val_loss: 0.1216 - val_accuracy: 0.9639\n",
            "Epoch 186/200\n",
            "35/35 [==============================] - 0s 3ms/step - loss: 1.7410e-04 - accuracy: 1.0000 - val_loss: 0.1263 - val_accuracy: 0.9639\n",
            "Epoch 187/200\n",
            "35/35 [==============================] - 0s 3ms/step - loss: 1.8001e-04 - accuracy: 1.0000 - val_loss: 0.1218 - val_accuracy: 0.9603\n",
            "Epoch 188/200\n",
            "35/35 [==============================] - 0s 3ms/step - loss: 1.7909e-04 - accuracy: 1.0000 - val_loss: 0.1278 - val_accuracy: 0.9567\n",
            "Epoch 189/200\n",
            "35/35 [==============================] - 0s 3ms/step - loss: 1.7347e-04 - accuracy: 1.0000 - val_loss: 0.1357 - val_accuracy: 0.9603\n",
            "Epoch 190/200\n",
            "35/35 [==============================] - 0s 3ms/step - loss: 2.3694e-04 - accuracy: 1.0000 - val_loss: 0.1334 - val_accuracy: 0.9495\n",
            "Epoch 191/200\n",
            "35/35 [==============================] - 0s 3ms/step - loss: 1.9970e-04 - accuracy: 1.0000 - val_loss: 0.1286 - val_accuracy: 0.9603\n",
            "Epoch 192/200\n",
            "35/35 [==============================] - 0s 3ms/step - loss: 1.5768e-04 - accuracy: 1.0000 - val_loss: 0.1332 - val_accuracy: 0.9639\n",
            "Epoch 193/200\n",
            "35/35 [==============================] - 0s 3ms/step - loss: 1.5246e-04 - accuracy: 1.0000 - val_loss: 0.1260 - val_accuracy: 0.9603\n",
            "Epoch 194/200\n",
            "35/35 [==============================] - 0s 3ms/step - loss: 1.4242e-04 - accuracy: 1.0000 - val_loss: 0.1271 - val_accuracy: 0.9639\n",
            "Epoch 195/200\n",
            "35/35 [==============================] - 0s 3ms/step - loss: 1.3318e-04 - accuracy: 1.0000 - val_loss: 0.1261 - val_accuracy: 0.9639\n",
            "Epoch 196/200\n",
            "35/35 [==============================] - 0s 3ms/step - loss: 1.4239e-04 - accuracy: 1.0000 - val_loss: 0.1235 - val_accuracy: 0.9639\n",
            "Epoch 197/200\n",
            "35/35 [==============================] - 0s 3ms/step - loss: 1.3362e-04 - accuracy: 1.0000 - val_loss: 0.1366 - val_accuracy: 0.9603\n",
            "Epoch 198/200\n",
            "35/35 [==============================] - 0s 3ms/step - loss: 1.2954e-04 - accuracy: 1.0000 - val_loss: 0.1361 - val_accuracy: 0.9603\n",
            "Epoch 199/200\n",
            "35/35 [==============================] - 0s 3ms/step - loss: 1.2364e-04 - accuracy: 1.0000 - val_loss: 0.1365 - val_accuracy: 0.9603\n",
            "Epoch 200/200\n",
            "35/35 [==============================] - 0s 3ms/step - loss: 1.2366e-04 - accuracy: 1.0000 - val_loss: 0.1364 - val_accuracy: 0.9603\n"
          ]
        }
      ]
    },
    {
      "cell_type": "code",
      "source": [
        "import matplotlib.pyplot as plt\n",
        "# Plot a graph of the traingin process\n",
        "plt.plot(history.history['accuracy'])\n",
        "plt.title('Model accuracy')\n",
        "plt.ylabel('Accuracy')\n",
        "plt.xlabel('Epoch')\n",
        "plt.legend(['Train'], loc='upper left')\n",
        "plt.show()"
      ],
      "metadata": {
        "colab": {
          "base_uri": "https://localhost:8080/",
          "height": 472
        },
        "id": "2hW_K0Z1TMlC",
        "outputId": "5aea22d7-3879-4d8e-875b-3efb3c6a6356"
      },
      "execution_count": 39,
      "outputs": [
        {
          "output_type": "display_data",
          "data": {
            "text/plain": [
              "<Figure size 640x480 with 1 Axes>"
            ],
            "image/png": "[encoded data removed]"
          },
          "metadata": {}
        }
      ]
    },
    {
      "cell_type": "code",
      "source": [
        "import matplotlib.pyplot as plt\n",
        "# Plot a graph of the traingin process\n",
        "plt.plot(history.history['loss'])\n",
        "plt.title('Model Loss')\n",
        "plt.ylabel('Loss')\n",
        "plt.xlabel('Epoch')\n",
        "plt.legend(['Train'], loc='upper left')\n",
        "plt.show()"
      ],
      "metadata": {
        "colab": {
          "base_uri": "https://localhost:8080/",
          "height": 472
        },
        "id": "WGi_B62gTaCw",
        "outputId": "96ccbc7e-484c-48b8-9ece-f7ea008051ad"
      },
      "execution_count": 40,
      "outputs": [
        {
          "output_type": "display_data",
          "data": {
            "text/plain": [
              "<Figure size 640x480 with 1 Axes>"
            ],
            "image/png": "[encoded data removed]"
          },
          "metadata": {}
        }
      ]
    },
    {
      "cell_type": "code",
      "source": [
        "import matplotlib.pyplot as plt\n",
        "# Plot a graph of the traingin process\n",
        "plt.plot(history.history['val_loss'])\n",
        "plt.title('Model loss')\n",
        "plt.ylabel('Accuracy')\n",
        "plt.xlabel('Epoch')\n",
        "plt.legend(['Train'], loc='upper left')\n",
        "plt.show()"
      ],
      "metadata": {
        "colab": {
          "base_uri": "https://localhost:8080/",
          "height": 472
        },
        "id": "3oliF4KwTtS4",
        "outputId": "0d43160f-fb1c-41a8-9e68-7a75d7269630"
      },
      "execution_count": 41,
      "outputs": [
        {
          "output_type": "display_data",
          "data": {
            "text/plain": [
              "<Figure size 640x480 with 1 Axes>"
            ],
            "image/png": "[encoded data removed]"
          },
          "metadata": {}
        }
      ]
    },
    {
      "cell_type": "code",
      "source": [
        "from tensorflow.keras.utils import plot_model\n",
        "\n",
        "plot_model(model, show_shapes = True, show_layer_names = True, to_file = '145538.png')"
      ],
      "metadata": {
        "colab": {
          "base_uri": "https://localhost:8080/",
          "height": 533
        },
        "id": "ZvzDtp0JUs6m",
        "outputId": "3a44ad51-de63-477f-f0c2-8ee2864f2c88"
      },
      "execution_count": 43,
      "outputs": [
        {
          "output_type": "execute_result",
          "data": {
            "image/png": "[encoded data removed]",
            "text/plain": [
              "<IPython.core.display.Image object>"
            ]
          },
          "metadata": {},
          "execution_count": 43
        }
      ]
    }
  ]
}