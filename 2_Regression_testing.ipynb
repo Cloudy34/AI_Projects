{
  "cells": [
    {
      "cell_type": "markdown",
      "metadata": {
        "id": "view-in-github",
        "colab_type": "text"
      },
      "source": [
        "<a href=\"https://colab.research.google.com/github/Cloudy34/AI_Projects/blob/main/2_Regression_testing.ipynb\" target=\"_parent\"><img src=\"https://colab.research.google.com/assets/colab-badge.svg\" alt=\"Open In Colab\"/></a>"
      ]
    },
    {
      "cell_type": "markdown",
      "metadata": {
        "id": "rwjfEM3OcKqS"
      },
      "source": [
        "## Illustration of some classical machine learning regression algorithms\n",
        "\n",
        "We will use the following algorithms:\n",
        "\n",
        "* Linear Regression\n",
        "* k-Nearest Neighbors Regression\n",
        "* Random Forest Regression\n",
        "* Support Vector Regression"
      ]
    },
    {
      "cell_type": "code",
      "execution_count": null,
      "metadata": {
        "id": "ytEdwb9lcKqU"
      },
      "outputs": [],
      "source": [
        "# Import Libraries\n",
        "import numpy as np\n",
        "import pandas as pd\n",
        "import matplotlib.pyplot as plt\n",
        "import seaborn as sns\n",
        "\n",
        "from sklearn.model_selection import train_test_split\n",
        "\n",
        "from sklearn.linear_model import LinearRegression\n",
        "from sklearn.neighbors import KNeighborsRegressor\n",
        "from sklearn.ensemble import RandomForestRegressor\n",
        "from sklearn.svm import SVR\n",
        "\n",
        "from sklearn.metrics import mean_squared_error, r2_score"
      ]
    },
    {
      "cell_type": "markdown",
      "metadata": {
        "id": "OcuUO85gcKqV"
      },
      "source": [
        "Disclaimer: this notebook is not meant to be a comprehensive guide to the algorithms. It is meant to be a quick illustration of the algorithms, and to give you a feel for how they work. For more information, see the documentation of the algorithms.\n",
        "\n",
        "Data: I'm not sure on the exact license of the data, hence I can not direclly share it here. You can download it from [here](https://www.kaggle.com/datasets/iamasteriix/rental-apartments-in-kenya).\n",
        "Alway check the license of the data before using / sharing it. As interesting as AI is, it is important to respect the rights of other people's work, and the law 😀."
      ]
    },
    {
      "cell_type": "code",
      "execution_count": null,
      "metadata": {
        "id": "qrOYipvhcKqV",
        "outputId": "0ec38748-05b2-449f-a40c-483eba6059f1"
      },
      "outputs": [
        {
          "data": {
            "text/html": [
              "<div>\n",
              "<style scoped>\n",
              "    .dataframe tbody tr th:only-of-type {\n",
              "        vertical-align: middle;\n",
              "    }\n",
              "\n",
              "    .dataframe tbody tr th {\n",
              "        vertical-align: top;\n",
              "    }\n",
              "\n",
              "    .dataframe thead th {\n",
              "        text-align: right;\n",
              "    }\n",
              "</style>\n",
              "<table border=\"1\" class=\"dataframe\">\n",
              "  <thead>\n",
              "    <tr style=\"text-align: right;\">\n",
              "      <th></th>\n",
              "      <th>Agency</th>\n",
              "      <th>Neighborhood</th>\n",
              "      <th>Price</th>\n",
              "      <th>link</th>\n",
              "      <th>sq_mtrs</th>\n",
              "      <th>Bedrooms</th>\n",
              "      <th>Bathrooms</th>\n",
              "    </tr>\n",
              "  </thead>\n",
              "  <tbody>\n",
              "    <tr>\n",
              "      <th>0</th>\n",
              "      <td>Buy Rent Shelters</td>\n",
              "      <td>General Mathenge, Westlands</td>\n",
              "      <td>KSh 155,000</td>\n",
              "      <td>/listings/4-bedroom-apartment-for-rent-general...</td>\n",
              "      <td>4.0</td>\n",
              "      <td>4.0</td>\n",
              "      <td>4.0</td>\n",
              "    </tr>\n",
              "    <tr>\n",
              "      <th>1</th>\n",
              "      <td>Kenya Classic Homes</td>\n",
              "      <td>Kilimani, Dagoretti North</td>\n",
              "      <td>KSh 100,000</td>\n",
              "      <td>/listings/3-bedroom-apartment-for-rent-kiliman...</td>\n",
              "      <td>300.0</td>\n",
              "      <td>3.0</td>\n",
              "      <td>4.0</td>\n",
              "    </tr>\n",
              "    <tr>\n",
              "      <th>2</th>\n",
              "      <td>Absolute Estate Agents</td>\n",
              "      <td>Hatheru Rd,, Lavington, Dagoretti North</td>\n",
              "      <td>KSh 75,000</td>\n",
              "      <td>/listings/3-bedroom-apartment-for-rent-lavingt...</td>\n",
              "      <td>3.0</td>\n",
              "      <td>3.0</td>\n",
              "      <td>5.0</td>\n",
              "    </tr>\n",
              "    <tr>\n",
              "      <th>3</th>\n",
              "      <td>A1 Properties Limited</td>\n",
              "      <td>Kilimani, Dagoretti North</td>\n",
              "      <td>KSh 135,000</td>\n",
              "      <td>/listings/3-bedroom-apartment-for-rent-kiliman...</td>\n",
              "      <td>227.0</td>\n",
              "      <td>3.0</td>\n",
              "      <td>4.0</td>\n",
              "    </tr>\n",
              "    <tr>\n",
              "      <th>4</th>\n",
              "      <td>Pmc Estates Limited</td>\n",
              "      <td>Imara Daima, Embakasi</td>\n",
              "      <td>KSh 50,000</td>\n",
              "      <td>/listings/3-bedroom-apartment-for-rent-imara-d...</td>\n",
              "      <td>3.0</td>\n",
              "      <td>3.0</td>\n",
              "      <td>NaN</td>\n",
              "    </tr>\n",
              "  </tbody>\n",
              "</table>\n",
              "</div>"
            ],
            "text/plain": [
              "                   Agency                             Neighborhood  \\\n",
              "0       Buy Rent Shelters              General Mathenge, Westlands   \n",
              "1     Kenya Classic Homes                Kilimani, Dagoretti North   \n",
              "2  Absolute Estate Agents  Hatheru Rd,, Lavington, Dagoretti North   \n",
              "3   A1 Properties Limited                Kilimani, Dagoretti North   \n",
              "4     Pmc Estates Limited                    Imara Daima, Embakasi   \n",
              "\n",
              "         Price                                               link  sq_mtrs  \\\n",
              "0  KSh 155,000  /listings/4-bedroom-apartment-for-rent-general...      4.0   \n",
              "1  KSh 100,000  /listings/3-bedroom-apartment-for-rent-kiliman...    300.0   \n",
              "2   KSh 75,000  /listings/3-bedroom-apartment-for-rent-lavingt...      3.0   \n",
              "3  KSh 135,000  /listings/3-bedroom-apartment-for-rent-kiliman...    227.0   \n",
              "4   KSh 50,000  /listings/3-bedroom-apartment-for-rent-imara-d...      3.0   \n",
              "\n",
              "   Bedrooms  Bathrooms  \n",
              "0       4.0        4.0  \n",
              "1       3.0        4.0  \n",
              "2       3.0        5.0  \n",
              "3       3.0        4.0  \n",
              "4       3.0        NaN  "
            ]
          },
          "execution_count": 2,
          "metadata": {},
          "output_type": "execute_result"
        }
      ],
      "source": [
        "# Import Dataset\n",
        "df = pd.read_csv('rent_apts.csv')\n",
        "\n",
        "'''\n",
        "A datafram is a two-dimensional size-mutable, potentially heterogeneous tabular data structure with labeled axes (rows and columns).\n",
        "This is quite useful for data analysis and manipulation. We wont be doing any analysis in this demo.\n",
        "'''\n",
        "\n",
        "df.head()"
      ]
    },
    {
      "cell_type": "markdown",
      "metadata": {
        "id": "uUCajwBLcKqW"
      },
      "source": [
        "###  Some data prep:"
      ]
    },
    {
      "cell_type": "code",
      "execution_count": null,
      "metadata": {
        "id": "xSLfcZwYcKqW"
      },
      "outputs": [],
      "source": [
        "# drop the columns we dont need\n",
        "del df['link']"
      ]
    },
    {
      "cell_type": "code",
      "execution_count": null,
      "metadata": {
        "id": "2WB9tMAQcKqW"
      },
      "outputs": [],
      "source": [
        "# drop the rows with missing values\n",
        "df.dropna(inplace=True)\n",
        "\n",
        "# Alternative you can fill missing values with the mean of the column. There are multiple techniques for handling missing data and these vary based on the type of data, problem, and the algorithm you are using, etc.\n",
        "# df.fillna(df.mean(), inplace=True)"
      ]
    },
    {
      "cell_type": "code",
      "execution_count": null,
      "metadata": {
        "id": "gMn3xHpEcKqX",
        "outputId": "f107ef7c-a527-4f69-a4c4-e6ad0f79a604"
      },
      "outputs": [
        {
          "name": "stdout",
          "output_type": "stream",
          "text": [
            "598\n",
            "180\n"
          ]
        }
      ],
      "source": [
        "# Encode the categorical data i.e. the data that is not numerical. Numerical dat is at times reffered to as continuous data.\n",
        "# Here we encode the 'Neighborhood' column\n",
        "\n",
        "# Get the unique values in the 'Neighborhood' column\n",
        "print(len(df['Neighborhood'].unique()))\n",
        "print(len(df['Agency'].unique()))"
      ]
    },
    {
      "cell_type": "code",
      "execution_count": null,
      "metadata": {
        "id": "nAdQI5CrcKqX",
        "outputId": "1b64bb4d-1767-4f9c-b84e-a193fc8d645d"
      },
      "outputs": [
        {
          "data": {
            "text/html": [
              "<div>\n",
              "<style scoped>\n",
              "    .dataframe tbody tr th:only-of-type {\n",
              "        vertical-align: middle;\n",
              "    }\n",
              "\n",
              "    .dataframe tbody tr th {\n",
              "        vertical-align: top;\n",
              "    }\n",
              "\n",
              "    .dataframe thead th {\n",
              "        text-align: right;\n",
              "    }\n",
              "</style>\n",
              "<table border=\"1\" class=\"dataframe\">\n",
              "  <thead>\n",
              "    <tr style=\"text-align: right;\">\n",
              "      <th></th>\n",
              "      <th>Agency</th>\n",
              "      <th>Neighborhood</th>\n",
              "      <th>Price</th>\n",
              "      <th>sq_mtrs</th>\n",
              "      <th>Bedrooms</th>\n",
              "      <th>Bathrooms</th>\n",
              "    </tr>\n",
              "  </thead>\n",
              "  <tbody>\n",
              "    <tr>\n",
              "      <th>0</th>\n",
              "      <td>18</td>\n",
              "      <td>145</td>\n",
              "      <td>KSh 155,000</td>\n",
              "      <td>4.0</td>\n",
              "      <td>4.0</td>\n",
              "      <td>4.0</td>\n",
              "    </tr>\n",
              "    <tr>\n",
              "      <th>1</th>\n",
              "      <td>91</td>\n",
              "      <td>205</td>\n",
              "      <td>KSh 100,000</td>\n",
              "      <td>300.0</td>\n",
              "      <td>3.0</td>\n",
              "      <td>4.0</td>\n",
              "    </tr>\n",
              "    <tr>\n",
              "      <th>2</th>\n",
              "      <td>3</td>\n",
              "      <td>159</td>\n",
              "      <td>KSh 75,000</td>\n",
              "      <td>3.0</td>\n",
              "      <td>3.0</td>\n",
              "      <td>5.0</td>\n",
              "    </tr>\n",
              "    <tr>\n",
              "      <th>3</th>\n",
              "      <td>1</td>\n",
              "      <td>205</td>\n",
              "      <td>KSh 135,000</td>\n",
              "      <td>227.0</td>\n",
              "      <td>3.0</td>\n",
              "      <td>4.0</td>\n",
              "    </tr>\n",
              "    <tr>\n",
              "      <th>6</th>\n",
              "      <td>107</td>\n",
              "      <td>375</td>\n",
              "      <td>KSh 100,000</td>\n",
              "      <td>14.0</td>\n",
              "      <td>2.0</td>\n",
              "      <td>3.0</td>\n",
              "    </tr>\n",
              "  </tbody>\n",
              "</table>\n",
              "</div>"
            ],
            "text/plain": [
              "   Agency  Neighborhood        Price  sq_mtrs  Bedrooms  Bathrooms\n",
              "0      18           145  KSh 155,000      4.0       4.0        4.0\n",
              "1      91           205  KSh 100,000    300.0       3.0        4.0\n",
              "2       3           159   KSh 75,000      3.0       3.0        5.0\n",
              "3       1           205  KSh 135,000    227.0       3.0        4.0\n",
              "6     107           375  KSh 100,000     14.0       2.0        3.0"
            ]
          },
          "execution_count": 7,
          "metadata": {},
          "output_type": "execute_result"
        }
      ],
      "source": [
        "from sklearn.preprocessing import LabelEncoder\n",
        "le = LabelEncoder()\n",
        "\n",
        "# Encode the 'Neighborhood' & 'Agncy' columns\n",
        "df['Neighborhood'] = le.fit_transform(df['Neighborhood'])\n",
        "df['Agency'] = le.fit_transform(df['Agency'])\n",
        "df.head()"
      ]
    },
    {
      "cell_type": "code",
      "execution_count": null,
      "metadata": {
        "id": "6_cADYmRcKqX",
        "outputId": "ac6f08b9-a7b5-4dda-f1dc-d0c8de1b23eb"
      },
      "outputs": [
        {
          "data": {
            "text/html": [
              "<div>\n",
              "<style scoped>\n",
              "    .dataframe tbody tr th:only-of-type {\n",
              "        vertical-align: middle;\n",
              "    }\n",
              "\n",
              "    .dataframe tbody tr th {\n",
              "        vertical-align: top;\n",
              "    }\n",
              "\n",
              "    .dataframe thead th {\n",
              "        text-align: right;\n",
              "    }\n",
              "</style>\n",
              "<table border=\"1\" class=\"dataframe\">\n",
              "  <thead>\n",
              "    <tr style=\"text-align: right;\">\n",
              "      <th></th>\n",
              "      <th>Agency</th>\n",
              "      <th>Neighborhood</th>\n",
              "      <th>Price</th>\n",
              "      <th>sq_mtrs</th>\n",
              "      <th>Bedrooms</th>\n",
              "      <th>Bathrooms</th>\n",
              "    </tr>\n",
              "  </thead>\n",
              "  <tbody>\n",
              "    <tr>\n",
              "      <th>0</th>\n",
              "      <td>18</td>\n",
              "      <td>145</td>\n",
              "      <td>155000</td>\n",
              "      <td>4.0</td>\n",
              "      <td>4.0</td>\n",
              "      <td>4.0</td>\n",
              "    </tr>\n",
              "    <tr>\n",
              "      <th>1</th>\n",
              "      <td>91</td>\n",
              "      <td>205</td>\n",
              "      <td>100000</td>\n",
              "      <td>300.0</td>\n",
              "      <td>3.0</td>\n",
              "      <td>4.0</td>\n",
              "    </tr>\n",
              "    <tr>\n",
              "      <th>2</th>\n",
              "      <td>3</td>\n",
              "      <td>159</td>\n",
              "      <td>75000</td>\n",
              "      <td>3.0</td>\n",
              "      <td>3.0</td>\n",
              "      <td>5.0</td>\n",
              "    </tr>\n",
              "    <tr>\n",
              "      <th>3</th>\n",
              "      <td>1</td>\n",
              "      <td>205</td>\n",
              "      <td>135000</td>\n",
              "      <td>227.0</td>\n",
              "      <td>3.0</td>\n",
              "      <td>4.0</td>\n",
              "    </tr>\n",
              "    <tr>\n",
              "      <th>6</th>\n",
              "      <td>107</td>\n",
              "      <td>375</td>\n",
              "      <td>100000</td>\n",
              "      <td>14.0</td>\n",
              "      <td>2.0</td>\n",
              "      <td>3.0</td>\n",
              "    </tr>\n",
              "  </tbody>\n",
              "</table>\n",
              "</div>"
            ],
            "text/plain": [
              "   Agency  Neighborhood   Price  sq_mtrs  Bedrooms  Bathrooms\n",
              "0      18           145  155000      4.0       4.0        4.0\n",
              "1      91           205  100000    300.0       3.0        4.0\n",
              "2       3           159   75000      3.0       3.0        5.0\n",
              "3       1           205  135000    227.0       3.0        4.0\n",
              "6     107           375  100000     14.0       2.0        3.0"
            ]
          },
          "execution_count": 8,
          "metadata": {},
          "output_type": "execute_result"
        }
      ],
      "source": [
        "# the price column is seems to be in integer format but it is actually a string. We need to convert it to float by cleaning the string.\n",
        "\n",
        "# Remove the Ksh and , from the price column\n",
        "df['Price'] = df['Price'].str.replace('KSh', '')            # We basically scan through and replace the Ksh with nothing i.e. ''\n",
        "df['Price'] = df['Price'].str.replace(',', '')              # We basically scan through and replace the , with nothing i.e. ''\n",
        "\n",
        "\n",
        "# Convert the price column to float from string\n",
        "df['Price'] = df['Price'].astype(int)\n",
        "\n",
        "df.head()\n"
      ]
    },
    {
      "cell_type": "code",
      "execution_count": null,
      "metadata": {
        "id": "QPd_KrFqcKqY"
      },
      "outputs": [],
      "source": [
        "# Specify the features and the target\n",
        "X = df.drop('Price', axis=1)\n",
        "y = df['Price']"
      ]
    },
    {
      "cell_type": "code",
      "execution_count": null,
      "metadata": {
        "id": "9F0QMCATcKqY",
        "outputId": "c3d4fc77-f8aa-4f61-e0a5-5e896d531e35"
      },
      "outputs": [
        {
          "data": {
            "text/plain": [
              "'\\nX: The features\\ny: The target\\ntest_size: The proportion of the dataset to include in the test split\\nrandom_state:   Controls the shuffling applied to the data before applying the split. Pass an int for reproducible output across multiple function calls.\\n                We pass 42 so that we can reproduce the results if we were to do this again / share our work with others.\\n'"
            ]
          },
          "execution_count": 10,
          "metadata": {},
          "output_type": "execute_result"
        }
      ],
      "source": [
        "# Now we split the data into training and testing sets then move to training the model and making predictions\n",
        "X_train, X_test, y_train, y_test = train_test_split(X, y, test_size=0.2, random_state=42)\n",
        "\n",
        "# Arguments\n",
        "'''\n",
        "X: The features\n",
        "y: The target\n",
        "test_size: The proportion of the dataset to include in the test split\n",
        "random_state:   Controls the shuffling applied to the data before applying the split. Pass an int for reproducible output across multiple function calls.\n",
        "                We pass 42 so that we can reproduce the results if we were to do this again / share our work with others.\n",
        "'''"
      ]
    },
    {
      "cell_type": "code",
      "execution_count": null,
      "metadata": {
        "id": "CEK0774ecKqY",
        "outputId": "b1e9f11c-22fb-4a6a-8815-42202692afbe"
      },
      "outputs": [
        {
          "name": "stdout",
          "output_type": "stream",
          "text": [
            "Mean Squared Error:  1266157446.3613594\n"
          ]
        },
        {
          "data": {
            "text/plain": [
              "'\\ny_true: The true values\\ny_pred: The predicted values\\n'"
            ]
          },
          "execution_count": 11,
          "metadata": {},
          "output_type": "execute_result"
        }
      ],
      "source": [
        "# Instantiate a Linear Regression model\n",
        "\n",
        "lr = LinearRegression()\n",
        "\n",
        "# Fit the model to the training data\n",
        "lr.fit(X_train, y_train)\n",
        "\n",
        "# Make predictions on the test data\n",
        "y_pred = lr.predict(X_test)\n",
        "\n",
        "# Evaluate the model\n",
        "print('Mean Squared Error: ', mean_squared_error(y_test, y_pred))\n",
        "\n",
        "# Arguments\n",
        "'''\n",
        "y_true: The true values\n",
        "y_pred: The predicted values\n",
        "'''\n",
        "\n",
        "# We'll discus more on the metrics in the class session. Classification and Regression metrics are different"
      ]
    },
    {
      "cell_type": "code",
      "execution_count": null,
      "metadata": {
        "id": "MG2zPFGOcKqY",
        "outputId": "22df2ead-8ec4-4075-c7c4-fbac425210fb"
      },
      "outputs": [
        {
          "name": "stdout",
          "output_type": "stream",
          "text": [
            "Mean Squared Error:  1602097330.8228204\n"
          ]
        }
      ],
      "source": [
        "# we have a high mean squared error. This means that our model is not performing well. We can try to improve the model by using a different algorithm\n",
        "# Lets try a KNN Regressor\n",
        "\n",
        "knn = KNeighborsRegressor(n_neighbors=5)\n",
        "\n",
        "# Fit the model to the training data\n",
        "knn.fit(X_train, y_train)\n",
        "\n",
        "# Make predictions on the test data\n",
        "y_pred = knn.predict(X_test)\n",
        "\n",
        "# Evaluate the model\n",
        "print('Mean Squared Error: ', mean_squared_error(y_test, y_pred))"
      ]
    },
    {
      "cell_type": "markdown",
      "metadata": {
        "id": "ktRY5uODcKqZ"
      },
      "source": [
        "------"
      ]
    },
    {
      "cell_type": "markdown",
      "metadata": {
        "id": "bOoqbA3ycKqZ"
      },
      "source": [
        "__Things still seem to be not working out. What do you think we can do to improve the model?__"
      ]
    }
  ],
  "metadata": {
    "kernelspec": {
      "display_name": "Python 3.9.13 ('strath')",
      "language": "python",
      "name": "python3"
    },
    "language_info": {
      "codemirror_mode": {
        "name": "ipython",
        "version": 3
      },
      "file_extension": ".py",
      "mimetype": "text/x-python",
      "name": "python",
      "nbconvert_exporter": "python",
      "pygments_lexer": "ipython3",
      "version": "3.9.13"
    },
    "orig_nbformat": 4,
    "vscode": {
      "interpreter": {
        "hash": "56c296f843f0257fb9e9c1d0c9300ff7536c9b8caa047b395b9e4d2483114cd8"
      }
    },
    "colab": {
      "provenance": [],
      "include_colab_link": true
    }
  },
  "nbformat": 4,
  "nbformat_minor": 0
}